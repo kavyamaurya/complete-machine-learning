{
 "cells": [
  {
   "cell_type": "code",
   "execution_count": 1,
   "id": "beedc2d9",
   "metadata": {},
   "outputs": [],
   "source": [
    "import pandas as pd\n",
    "import numpy as np"
   ]
  },
  {
   "cell_type": "code",
   "execution_count": 16,
   "id": "81b12374",
   "metadata": {},
   "outputs": [
    {
     "name": "stdout",
     "output_type": "stream",
     "text": [
      "Logistic Regression Accuracy: 0.97\n",
      "Random Forest Accuracy: 0.97\n",
      "K-Nearest Neighbors Accuracy: 0.97\n"
     ]
    }
   ],
   "source": [
    "from sklearn.datasets import load_iris\n",
    "from sklearn.model_selection import cross_val_score\n",
    "from sklearn.linear_model import LogisticRegression\n",
    "from sklearn.ensemble import RandomForestClassifier\n",
    "from sklearn.neighbors import KNeighborsClassifier\n",
    "import warnings\n",
    "warnings.filterwarnings('ignore')\n",
    "\n",
    "# Load the Iris dataset\n",
    "iris = load_iris()\n",
    "X = iris.data  # Features\n",
    "y = iris.target  # Target variable\n",
    "\n",
    "# Create a list of classifiers\n",
    "classifiers = [\n",
    "    (\"Logistic Regression\", LogisticRegression()),\n",
    "    (\"Random Forest\", RandomForestClassifier()),\n",
    "    (\"K-Nearest Neighbors\", KNeighborsClassifier())\n",
    "]\n",
    "\n",
    "# Perform cross-validation for each classifier\n",
    "for classifier in classifiers:\n",
    "    scores = cross_val_score(classifier[1], X, y, cv=10, scoring='accuracy')\n",
    "    print(classifier[0], \"Accuracy:\", round(scores.mean(), 2))\n"
   ]
  },
  {
   "cell_type": "code",
   "execution_count": 17,
   "id": "08bf2bf3",
   "metadata": {},
   "outputs": [
    {
     "name": "stdout",
     "output_type": "stream",
     "text": [
      "0.97\n"
     ]
    }
   ],
   "source": [
    "#HARD VOTING\n",
    "import warnings\n",
    "warnings.filterwarnings('ignore')\n",
    "\n",
    "from sklearn.ensemble import VotingClassifier\n",
    "vc = VotingClassifier(estimators=classifiers)\n",
    "x = cross_val_score(vc,X,y,cv=10,scoring='accuracy')\n",
    "print(np.round(np.mean(x),2))"
   ]
  },
  {
   "cell_type": "code",
   "execution_count": 18,
   "id": "b134674e",
   "metadata": {},
   "outputs": [
    {
     "name": "stdout",
     "output_type": "stream",
     "text": [
      "Soft Voting Accuracy: 0.96\n"
     ]
    }
   ],
   "source": [
    "from sklearn.datasets import load_iris\n",
    "from sklearn.model_selection import cross_val_score\n",
    "from sklearn.ensemble import VotingClassifier\n",
    "from sklearn.linear_model import LogisticRegression\n",
    "from sklearn.ensemble import RandomForestClassifier\n",
    "from sklearn.neighbors import KNeighborsClassifier\n",
    "import numpy as np\n",
    "import warnings\n",
    "warnings.filterwarnings('ignore')\n",
    "\n",
    "# Load the Iris dataset\n",
    "iris = load_iris()\n",
    "X = iris.data  # Features\n",
    "y = iris.target  # Target variable\n",
    "\n",
    "# Create a list of classifiers\n",
    "classifiers = [\n",
    "    (\"Logistic Regression\", LogisticRegression()),\n",
    "    (\"Random Forest\", RandomForestClassifier()),\n",
    "    (\"K-Nearest Neighbors\", KNeighborsClassifier())\n",
    "]\n",
    "\n",
    "# Soft Voting\n",
    "vc1 = VotingClassifier(estimators=classifiers, voting='soft')\n",
    "x = cross_val_score(vc1, X, y, cv=10, scoring='accuracy')\n",
    "print(\"Soft Voting Accuracy:\", round(np.mean(x), 2))\n"
   ]
  },
  {
   "cell_type": "code",
   "execution_count": 15,
   "id": "aceb1d5f",
   "metadata": {},
   "outputs": [
    {
     "name": "stdout",
     "output_type": "stream",
     "text": [
      "Weights: (1, 1, 1), Weighted Avg Accuracy: 0.96\n",
      "Weights: (1, 1, 2), Weighted Avg Accuracy: 0.96\n",
      "Weights: (1, 1, 3), Weighted Avg Accuracy: 0.96\n",
      "Weights: (1, 2, 1), Weighted Avg Accuracy: 0.97\n",
      "Weights: (1, 2, 2), Weighted Avg Accuracy: 0.96\n",
      "Weights: (1, 2, 3), Weighted Avg Accuracy: 0.96\n",
      "Weights: (1, 3, 1), Weighted Avg Accuracy: 0.96\n",
      "Weights: (1, 3, 2), Weighted Avg Accuracy: 0.96\n",
      "Weights: (1, 3, 3), Weighted Avg Accuracy: 0.96\n",
      "Weights: (1, 1, 1), Weighted Avg Accuracy: 0.96\n",
      "Weights: (1, 1, 2), Weighted Avg Accuracy: 0.96\n",
      "Weights: (1, 1, 3), Weighted Avg Accuracy: 0.96\n",
      "Weights: (1, 2, 1), Weighted Avg Accuracy: 0.96\n",
      "Weights: (1, 2, 2), Weighted Avg Accuracy: 0.96\n",
      "Weights: (1, 2, 3), Weighted Avg Accuracy: 0.96\n",
      "Weights: (1, 3, 1), Weighted Avg Accuracy: 0.97\n",
      "Weights: (1, 3, 2), Weighted Avg Accuracy: 0.96\n",
      "Weights: (1, 3, 3), Weighted Avg Accuracy: 0.96\n",
      "Weights: (1, 1, 1), Weighted Avg Accuracy: 0.96\n",
      "Weights: (1, 1, 2), Weighted Avg Accuracy: 0.96\n",
      "Weights: (1, 1, 3), Weighted Avg Accuracy: 0.97\n",
      "Weights: (1, 2, 1), Weighted Avg Accuracy: 0.95\n",
      "Weights: (1, 2, 2), Weighted Avg Accuracy: 0.96\n",
      "Weights: (1, 2, 3), Weighted Avg Accuracy: 0.96\n",
      "Weights: (1, 3, 1), Weighted Avg Accuracy: 0.96\n",
      "Weights: (1, 3, 2), Weighted Avg Accuracy: 0.97\n",
      "Weights: (1, 3, 3), Weighted Avg Accuracy: 0.96\n"
     ]
    }
   ],
   "source": [
    "from sklearn.datasets import load_iris\n",
    "from sklearn.model_selection import cross_val_score\n",
    "from sklearn.ensemble import VotingClassifier\n",
    "from sklearn.linear_model import LogisticRegression\n",
    "from sklearn.ensemble import RandomForestClassifier\n",
    "from sklearn.neighbors import KNeighborsClassifier\n",
    "import numpy as np\n",
    "import warnings\n",
    "warnings.filterwarnings('ignore')\n",
    "\n",
    "# Load the Iris dataset\n",
    "iris = load_iris()\n",
    "X = iris.data  # Features\n",
    "y = iris.target  # Target variable\n",
    "\n",
    "# Create a list of classifiers\n",
    "classifiers = [\n",
    "    (\"Logistic Regression\", LogisticRegression()),\n",
    "    (\"Random Forest\", RandomForestClassifier()),\n",
    "    (\"K-Nearest Neighbors\", KNeighborsClassifier())\n",
    "]\n",
    "\n",
    "# Perform weighted voting with different weight combinations\n",
    "for i in range(1, 4):\n",
    "    for j in range(1, 4):\n",
    "        for k in range(1, 4):\n",
    "            # Create a VotingClassifier with specified weights\n",
    "            weights = [1, j, k]\n",
    "            vc = VotingClassifier(estimators=classifiers, voting='soft', weights=weights)\n",
    "\n",
    "            # Perform cross-validation and calculate the weighted average accuracy\n",
    "            scores = cross_val_score(vc, X, y, cv=10, scoring='accuracy')\n",
    "            weighted_avg_accuracy = np.mean(scores)\n",
    "\n",
    "            # Print the results\n",
    "            print(\"Weights: ({}, {}, {}), Weighted Avg Accuracy: {:.2f}\".format(1, j, k, weighted_avg_accuracy))\n"
   ]
  },
  {
   "cell_type": "code",
   "execution_count": null,
   "id": "fa6e7e89",
   "metadata": {},
   "outputs": [],
   "source": []
  }
 ],
 "metadata": {
  "kernelspec": {
   "display_name": "Python 3 (ipykernel)",
   "language": "python",
   "name": "python3"
  },
  "language_info": {
   "codemirror_mode": {
    "name": "ipython",
    "version": 3
   },
   "file_extension": ".py",
   "mimetype": "text/x-python",
   "name": "python",
   "nbconvert_exporter": "python",
   "pygments_lexer": "ipython3",
   "version": "3.11.3"
  }
 },
 "nbformat": 4,
 "nbformat_minor": 5
}
