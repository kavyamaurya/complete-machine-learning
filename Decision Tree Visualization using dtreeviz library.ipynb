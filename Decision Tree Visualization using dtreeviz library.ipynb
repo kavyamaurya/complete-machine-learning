{
 "cells": [
  {
   "cell_type": "code",
   "execution_count": null,
   "id": "7131637c",
   "metadata": {},
   "outputs": [],
   "source": [
    "import graphviz.backend as be"
   ]
  },
  {
   "cell_type": "code",
   "execution_count": null,
   "id": "827210e2",
   "metadata": {},
   "outputs": [],
   "source": [
    "from sklearn.datasets import *\n",
    "from dtreeviz.trees import *\n",
    "from IPython.display import Image,display_svg, SVG"
   ]
  },
  {
   "cell_type": "code",
   "execution_count": null,
   "id": "a3b13af6",
   "metadata": {},
   "outputs": [],
   "source": [
    "clas = tree.DecisionTreeClassifier(max_depth=2)\n",
    "iris = load_iris()\n",
    "\n",
    "x_train = iris.data\n",
    "y_train = iris.target\n",
    "clas.fit(x_train,y_train)"
   ]
  },
  {
   "cell_type": "code",
   "execution_count": null,
   "id": "f43f9b2f",
   "metadata": {},
   "outputs": [],
   "source": [
    "from sklearn.tree import plot_tree\n",
    "plot_tree(clas)"
   ]
  },
  {
   "cell_type": "code",
   "execution_count": null,
   "id": "cc29957f",
   "metadata": {},
   "outputs": [],
   "source": [
    "#CLASSIFICATION\n",
    "viz = dtreeviz(clas,\n",
    "              x_train,\n",
    "              y_train,\n",
    "              target_name = 'price',\n",
    "              feature_names=iris.feature_names,\n",
    "              class_name=['sentosa','versicolor','virginica'],\n",
    "              scale=1.5)\n",
    "viz"
   ]
  },
  {
   "cell_type": "code",
   "execution_count": null,
   "id": "d2b413c9",
   "metadata": {
    "scrolled": true
   },
   "outputs": [],
   "source": [
    "#REGRESSION\n",
    "\n",
    "regr = tree.DecisionTreeRegressor(max_depth=1)\n",
    "boston = load_boston()\n",
    "\n",
    "X_train = boston.data\n",
    "y_train = boston.target\n",
    "regr.fit(X_train, y_train)\n",
    "\n",
    "viz = dtreeviz(regr,\n",
    "               X_train,\n",
    "               y_train,\n",
    "               target_name='price',\n",
    "               feature_names=boston.feature_names,\n",
    "               scale=2\n",
    "              )\n",
    "viz"
   ]
  },
  {
   "cell_type": "code",
   "execution_count": null,
   "id": "f7f38394",
   "metadata": {},
   "outputs": [],
   "source": []
  }
 ],
 "metadata": {
  "kernelspec": {
   "display_name": "Python 3 (ipykernel)",
   "language": "python",
   "name": "python3"
  },
  "language_info": {
   "codemirror_mode": {
    "name": "ipython",
    "version": 3
   },
   "file_extension": ".py",
   "mimetype": "text/x-python",
   "name": "python",
   "nbconvert_exporter": "python",
   "pygments_lexer": "ipython3",
   "version": "3.11.3"
  }
 },
 "nbformat": 4,
 "nbformat_minor": 5
}
