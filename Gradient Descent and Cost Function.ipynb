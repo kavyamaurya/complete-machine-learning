{
 "cells": [
  {
   "cell_type": "code",
   "execution_count": 20,
   "id": "abe13f4e",
   "metadata": {},
   "outputs": [],
   "source": [
    "import numpy as np\n",
    "import matplotlib.pyplot as plt"
   ]
  },
  {
   "cell_type": "code",
   "execution_count": 21,
   "id": "7f2dc746",
   "metadata": {},
   "outputs": [],
   "source": [
    "def gradient_descent(x, y):\n",
    "    m_curr = b_curr = 0\n",
    "    iterations = 1000\n",
    "    n = len(x)\n",
    "    learning_rate = 0.001\n",
    "    for i in range(iterations):\n",
    "        y_pred = m_curr * x + b_curr\n",
    "        cost = (1/n) * sum([val**2 for val in (y - y_pred)])\n",
    "        md = -(2/n) * sum(x * (y - y_pred))\n",
    "        bd = -(2/n) * sum(y - y_pred)\n",
    "        m_curr = m_curr - learning_rate * md\n",
    "        b_curr = b_curr - learning_rate * bd\n",
    "        print(\"m {}, b {}, cost {}, iteration {}\".format(m_curr, b_curr, cost, i))\n",
    "        \n",
    "x = np.array([1, 2, 3, 4, 5])\n",
    "y = np.array([2, 5, 6, 8, 9])  # Make sure y has the same length as x\n",
    "gradient_descent(x, y)\n"
   ]
  },
  {
   "cell_type": "code",
   "execution_count": null,
   "id": "6294eebc",
   "metadata": {},
   "outputs": [],
   "source": []
  }
 ],
 "metadata": {
  "kernelspec": {
   "display_name": "Python 3 (ipykernel)",
   "language": "python",
   "name": "python3"
  },
  "language_info": {
   "codemirror_mode": {
    "name": "ipython",
    "version": 3
   },
   "file_extension": ".py",
   "mimetype": "text/x-python",
   "name": "python",
   "nbconvert_exporter": "python",
   "pygments_lexer": "ipython3",
   "version": "3.11.3"
  }
 },
 "nbformat": 4,
 "nbformat_minor": 5
}
